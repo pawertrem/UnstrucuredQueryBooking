{
 "cells": [
  {
   "cell_type": "code",
   "execution_count": 4,
   "id": "5dddfbb9-7ef4-4afe-8ec8-228445f7c7ed",
   "metadata": {},
   "outputs": [],
   "source": [
    "import json\n",
    "\n",
    "import pandas as pd\n",
    "import numpy as np\n",
    "from sklearn.feature_extraction.text import TfidfVectorizer\n",
    "from sklearn.metrics.pairwise import cosine_similarity\n",
    "import time\n",
    "\n",
    "from sentence_transformers import SentenceTransformer\n"
   ]
  },
  {
   "cell_type": "markdown",
   "id": "7e1f5fce-479e-4ffe-93fb-c119dbef4666",
   "metadata": {},
   "source": [
    "# Data Preprocessing"
   ]
  },
  {
   "cell_type": "code",
   "execution_count": 3,
   "id": "e057f110-425a-4d28-8af8-a688b6b86c7b",
   "metadata": {},
   "outputs": [],
   "source": [
    "# Открытие и чтение JSON файла\n",
    "with open('detailed_listing_new.json', 'r') as file:\n",
    "    data = json.load(file)\n",
    "\n",
    "listings = pd.read_csv('listings_new.csv')"
   ]
  },
  {
   "cell_type": "code",
   "execution_count": 4,
   "id": "57cf1509-121f-4325-b4fd-c9626f11afc7",
   "metadata": {},
   "outputs": [],
   "source": [
    "corpus = []\n",
    "\n",
    "for i in data:\n",
    "    text = data[i]['description'] + \" \" + \" \".join([str(x) for x in data[i]['reviews']])  # Объединяем описание и все отзывы\n",
    "    corpus.append(text)"
   ]
  },
  {
   "cell_type": "code",
   "execution_count": 7,
   "id": "0d981e14-f0c7-4a83-a377-6732a2e76003",
   "metadata": {},
   "outputs": [],
   "source": [
    "data = pd.DataFrame(data).T.reset_index()"
   ]
  },
  {
   "cell_type": "code",
   "execution_count": 9,
   "id": "75a8954d-be46-4a02-8806-ae0229d4d591",
   "metadata": {},
   "outputs": [],
   "source": [
    "data = data.rename(columns = {'index': 'ID'})"
   ]
  },
  {
   "cell_type": "code",
   "execution_count": 11,
   "id": "72c808fd-c12b-4dee-8a44-eba2713737b1",
   "metadata": {},
   "outputs": [],
   "source": [
    "listings['ID'] = listings['links'].apply(\n",
    "    lambda x: x.split('/')[len(x.split('/')) - 1])"
   ]
  },
  {
   "cell_type": "code",
   "execution_count": 13,
   "id": "149f0bf5-31f9-4b93-a380-2b9de41dadf6",
   "metadata": {},
   "outputs": [],
   "source": [
    "listings = listings.merge(data, on = 'ID')"
   ]
  },
  {
   "cell_type": "code",
   "execution_count": 15,
   "id": "f6eaf461-8a0e-420e-b69f-a00265c39842",
   "metadata": {},
   "outputs": [],
   "source": [
    "listings['guests'] = listings['guests'].apply(lambda x: x.split(' ')[0].replace('+', '')).astype(int)\n",
    "#listings['bedrooms'] = listings['bedrooms'].apply(lambda x: x.split(' ')[0].replace('студия', '1')).astype(int)\n",
    "#listings['beds'] = listings['beds'].apply(lambda x: x.split(' ')[0]).astype(int)\n",
    "#listings['bathrooms'] = listings['bathrooms'].apply(lambda x: x.split(' ')[0]).astype(int)\n",
    "listings['price'] = listings['price'].apply(lambda x: x.replace('$', '').replace('\\xa0', '')).astype(int)"
   ]
  },
  {
   "cell_type": "code",
   "execution_count": 17,
   "id": "ba2e7297-19ce-499d-931b-0f69e3921d14",
   "metadata": {},
   "outputs": [],
   "source": [
    "listings['price'] = round(listings['price']/5)"
   ]
  },
  {
   "cell_type": "code",
   "execution_count": 19,
   "id": "825ad0fb-ae56-4af3-8cd5-f77955a726fc",
   "metadata": {},
   "outputs": [],
   "source": [
    "listings['guests'] = np.where(listings['beds'] == 'Суперхозяин', 2, listings['guests'])\n",
    "listings['bathrooms'] = np.where(listings['beds'] == 'Суперхозяин', '1 ванная', listings['bathrooms'])\n",
    "listings['beds'] = np.where(listings['beds'] == 'Суперхозяин', '1 кровать', listings['beds'])"
   ]
  },
  {
   "cell_type": "code",
   "execution_count": 21,
   "id": "76af3bb5-2a79-4f9a-889d-51d36893ede0",
   "metadata": {},
   "outputs": [],
   "source": [
    "listings['bedrooms'] = listings['bedrooms'].apply(lambda x: x.replace(\n",
    "    'Общая ванная', '1 спальня').replace('студия', '1 спальня'))\n",
    "\n",
    "listings['bedrooms'] = listings['bedrooms'].apply(lambda x: x.split(' ')[0]).astype(int)"
   ]
  },
  {
   "cell_type": "code",
   "execution_count": 23,
   "id": "9eabe20f-0558-4dab-afd9-95d2894d8aba",
   "metadata": {},
   "outputs": [],
   "source": [
    "listings['beds'] = listings['beds'].apply(lambda x: x.split(' ')[0]).astype(int)\n",
    "#listings['bathrooms'] = listings['bathrooms'].apply(lambda x: x.split(' ')[0]).astype(int)"
   ]
  },
  {
   "cell_type": "code",
   "execution_count": 25,
   "id": "ebc5d8a9-e212-4ae9-a8e5-c6f259f0ca3a",
   "metadata": {},
   "outputs": [],
   "source": [
    "def remove_part(x):\n",
    "    if '\\n' in x:\n",
    "        return x.split('\\n')[1]\n",
    "    else:\n",
    "        return x\n",
    "        \n",
    "listings['amenities'] = listings['amenities'].apply(lambda amlist: [remove_part(x) for x in amlist])"
   ]
  },
  {
   "cell_type": "code",
   "execution_count": 27,
   "id": "1b10db96-b08c-409d-8b32-7c2bbc4f59c1",
   "metadata": {},
   "outputs": [
    {
     "data": {
      "text/plain": [
       "amenities\n",
       "Датчик дыма                                                267\n",
       "Датчик угарного газа                                       265\n",
       "Гости могут готовить                                       261\n",
       "Утюг                                                       247\n",
       "Глубокие миски, палочки для еды, тарелки, чашки и т. д.    247\n",
       "Wi-Fi                                                      238\n",
       "Кастрюли, сковородки, масло, соль и перец                  227\n",
       "Плечики                                                    225\n",
       "Сушильная машина                                           218\n",
       "Гель для душа                                              216\n",
       "Name: count, dtype: int64"
      ]
     },
     "execution_count": 27,
     "metadata": {},
     "output_type": "execute_result"
    }
   ],
   "source": [
    "top_items = listings.explode('amenities')['amenities'].value_counts()\n",
    "top_items.head(10)"
   ]
  },
  {
   "cell_type": "code",
   "execution_count": 29,
   "id": "260f199c-3685-4fb9-a0ae-3438930841de",
   "metadata": {},
   "outputs": [
    {
     "name": "stdout",
     "output_type": "stream",
     "text": [
      "['Датчик дыма', 'Датчик угарного газа', 'Гости могут готовить', 'Утюг', 'Глубокие миски, палочки для еды, тарелки, чашки и т. д.', 'Wi-Fi', 'Кастрюли, сковородки, масло, соль и перец', 'Плечики', 'Сушильная машина', 'Гель для душа']\n"
     ]
    }
   ],
   "source": [
    "print(list(top_items.head(10).index))"
   ]
  },
  {
   "cell_type": "code",
   "execution_count": 31,
   "id": "9b1ca025-ea2e-496c-9961-0e0f9ad0c5a2",
   "metadata": {},
   "outputs": [],
   "source": [
    "required_amenities = list(top_items.head(10).index)"
   ]
  },
  {
   "cell_type": "code",
   "execution_count": 207,
   "id": "9d44f5f4-21a6-45bc-9901-2a51a0c94483",
   "metadata": {},
   "outputs": [],
   "source": [
    "listings.to_json('final_data_v2.json', orient='records', lines=True)"
   ]
  },
  {
   "cell_type": "code",
   "execution_count": 107,
   "id": "cbc59fbc-ec7e-480f-ab3b-b8491c2cf888",
   "metadata": {},
   "outputs": [],
   "source": [
    "df = pd.read_json('final_data_v2.json', orient='records', lines=True)"
   ]
  },
  {
   "cell_type": "code",
   "execution_count": 65,
   "id": "c6e3d386-4e5f-4037-8b5f-d2262f216213",
   "metadata": {},
   "outputs": [],
   "source": [
    "check_df = df[(df['review1'].isin(check.review1)) & (df['review2'].isin(check.review2)) & (df['review3'].isin(check.review3))] "
   ]
  },
  {
   "cell_type": "code",
   "execution_count": 73,
   "id": "722c5c5f-131e-4b00-a39e-a83ee0a2408e",
   "metadata": {},
   "outputs": [
    {
     "data": {
      "text/plain": [
       "43"
      ]
     },
     "execution_count": 73,
     "metadata": {},
     "output_type": "execute_result"
    }
   ],
   "source": [
    "check[0].sum()"
   ]
  },
  {
   "cell_type": "code",
   "execution_count": 141,
   "id": "7f54e86c-8642-493b-bc3d-c33cbef4a920",
   "metadata": {},
   "outputs": [],
   "source": [
    "check_df = check_df[['names', 'links', 'img', 'price', 'rating', 'ID', 'description',\n",
    "                     'guests', 'bedrooms', 'beds', 'bathrooms', 'amenities']]"
   ]
  },
  {
   "cell_type": "code",
   "execution_count": 133,
   "id": "2366aa83-aa42-4747-aafd-385df4dc5882",
   "metadata": {},
   "outputs": [],
   "source": [
    "df = df[df['ID'].isin(check_df['ID']) == False]"
   ]
  },
  {
   "cell_type": "code",
   "execution_count": 135,
   "id": "2f5500e3-4625-46aa-b79c-7fb2398f6b26",
   "metadata": {},
   "outputs": [
    {
     "data": {
      "text/plain": [
       "223"
      ]
     },
     "execution_count": 135,
     "metadata": {},
     "output_type": "execute_result"
    }
   ],
   "source": [
    "len(df)"
   ]
  },
  {
   "cell_type": "code",
   "execution_count": 109,
   "id": "3a5749a6-b443-44ec-8e6f-1f0767494526",
   "metadata": {},
   "outputs": [],
   "source": [
    "# Открытие и чтение JSON файла\n",
    "with open('detailed_listing_new2.json', 'r') as file:\n",
    "    data = json.load(file)"
   ]
  },
  {
   "cell_type": "code",
   "execution_count": 119,
   "id": "3c9fa3c5-e644-41c7-bc8f-f68f3581361b",
   "metadata": {},
   "outputs": [],
   "source": [
    "data = data[['ID', 'reviews']]"
   ]
  },
  {
   "cell_type": "code",
   "execution_count": 145,
   "id": "0ad4bf8e-7db5-46f1-b909-ee939391d222",
   "metadata": {},
   "outputs": [
    {
     "name": "stderr",
     "output_type": "stream",
     "text": [
      "/var/folders/nr/dvkhlk7923z7lxh9kjf4zm1m0000gn/T/ipykernel_24754/1506181876.py:1: SettingWithCopyWarning: \n",
      "A value is trying to be set on a copy of a slice from a DataFrame.\n",
      "Try using .loc[row_indexer,col_indexer] = value instead\n",
      "\n",
      "See the caveats in the documentation: https://pandas.pydata.org/pandas-docs/stable/user_guide/indexing.html#returning-a-view-versus-a-copy\n",
      "  check_df['ID'] = check_df['ID'].astype(str)\n"
     ]
    }
   ],
   "source": [
    "check_df['ID'] = check_df['ID'].astype(str)"
   ]
  },
  {
   "cell_type": "code",
   "execution_count": 147,
   "id": "a9104439-092a-4cf9-8f46-98e5b1d0bf2f",
   "metadata": {},
   "outputs": [],
   "source": [
    "check_df = check_df.merge(data, on = 'ID')"
   ]
  },
  {
   "cell_type": "code",
   "execution_count": 153,
   "id": "c21d8fe1-1ef4-42fe-9ad5-dda75c24fa44",
   "metadata": {},
   "outputs": [],
   "source": [
    "check_df = check_df[['names', 'links', 'img', 'price', 'rating', 'ID', 'description', 'reviews',\n",
    "                     'guests', 'bedrooms', 'beds', 'bathrooms', 'amenities']]"
   ]
  },
  {
   "cell_type": "code",
   "execution_count": 157,
   "id": "53f7dfdb-de3b-4a45-baa6-0fb117e32f74",
   "metadata": {},
   "outputs": [],
   "source": [
    "df = pd.concat([df, check_df])"
   ]
  },
  {
   "cell_type": "code",
   "execution_count": 161,
   "id": "51bb18cf-0d6e-4776-8c6d-7f01e09a5c43",
   "metadata": {},
   "outputs": [],
   "source": [
    "df.to_json('final_data_v3.json', orient='records', lines=True)"
   ]
  },
  {
   "cell_type": "code",
   "execution_count": 451,
   "id": "a4ce7b6a-24b8-4231-8695-c86c430dd81b",
   "metadata": {},
   "outputs": [],
   "source": [
    "listings = pd.read_json('final_data.json', orient='records', lines=True)"
   ]
  },
  {
   "cell_type": "code",
   "execution_count": 453,
   "id": "0f879c90-21ed-459d-aa6b-55173279bfeb",
   "metadata": {},
   "outputs": [],
   "source": [
    "listings = listings.drop_duplicates('description')"
   ]
  },
  {
   "cell_type": "code",
   "execution_count": 533,
   "id": "8330e4b1-f834-4e91-8ea7-05f95a929365",
   "metadata": {},
   "outputs": [],
   "source": [
    "listings = listings.reset_index(drop=True)"
   ]
  },
  {
   "cell_type": "code",
   "execution_count": 535,
   "id": "2c21372b-3898-46cc-ab6a-82a96d3bc36a",
   "metadata": {},
   "outputs": [],
   "source": [
    "listings.to_json('final_data_v3.json', orient='records', lines=True)"
   ]
  },
  {
   "cell_type": "markdown",
   "id": "ef4aed72-1300-4b6c-95cc-1419114f1ac2",
   "metadata": {},
   "source": [
    "# Data Analysis"
   ]
  },
  {
   "cell_type": "code",
   "execution_count": 8,
   "id": "f210f1b8-7561-483b-982e-8ef7adc21bd4",
   "metadata": {},
   "outputs": [],
   "source": [
    "listings = pd.read_json('final_data.json', orient='records', lines=True)"
   ]
  },
  {
   "cell_type": "code",
   "execution_count": 10,
   "id": "c831b4d8-3918-4ac1-9265-adae74e312bb",
   "metadata": {},
   "outputs": [
    {
     "data": {
      "text/html": [
       "<div>\n",
       "<style scoped>\n",
       "    .dataframe tbody tr th:only-of-type {\n",
       "        vertical-align: middle;\n",
       "    }\n",
       "\n",
       "    .dataframe tbody tr th {\n",
       "        vertical-align: top;\n",
       "    }\n",
       "\n",
       "    .dataframe thead th {\n",
       "        text-align: right;\n",
       "    }\n",
       "</style>\n",
       "<table border=\"1\" class=\"dataframe\">\n",
       "  <thead>\n",
       "    <tr style=\"text-align: right;\">\n",
       "      <th></th>\n",
       "      <th>names</th>\n",
       "      <th>links</th>\n",
       "      <th>img</th>\n",
       "      <th>price</th>\n",
       "      <th>rating</th>\n",
       "      <th>ID</th>\n",
       "      <th>description</th>\n",
       "      <th>reviews</th>\n",
       "      <th>guests</th>\n",
       "      <th>bedrooms</th>\n",
       "      <th>beds</th>\n",
       "      <th>bathrooms</th>\n",
       "      <th>amenities</th>\n",
       "    </tr>\n",
       "  </thead>\n",
       "  <tbody>\n",
       "    <tr>\n",
       "      <th>0</th>\n",
       "      <td>Винтажная квартира на улице G. Kikodze N12</td>\n",
       "      <td>www.airbnb.ru/rooms/20411305</td>\n",
       "      <td>https://a0.muscache.com/im/pictures/438c7599-c...</td>\n",
       "      <td>42</td>\n",
       "      <td>4,99</td>\n",
       "      <td>20411305</td>\n",
       "      <td>Уютная квартира в винтажном стиле расположена ...</td>\n",
       "      <td>[Очень хороший, очень со вкусом обставленный д...</td>\n",
       "      <td>2</td>\n",
       "      <td>2</td>\n",
       "      <td>2</td>\n",
       "      <td>1 ванная</td>\n",
       "      <td>[Фен, Шампунь, Горячая вода, Стиральная машина...</td>\n",
       "    </tr>\n",
       "    <tr>\n",
       "      <th>1</th>\n",
       "      <td>до площади Свободы 50 метров</td>\n",
       "      <td>www.airbnb.ru/rooms/18223226</td>\n",
       "      <td>https://a0.muscache.com/im/pictures/airflow/Ho...</td>\n",
       "      <td>55</td>\n",
       "      <td>4,99</td>\n",
       "      <td>18223226</td>\n",
       "      <td>Эта красивая квартира имеет отличное расположе...</td>\n",
       "      <td>[Отзывчивый хозяин быстро отвечал на все наши ...</td>\n",
       "      <td>4</td>\n",
       "      <td>1</td>\n",
       "      <td>1</td>\n",
       "      <td>1 ванная</td>\n",
       "      <td>[Фен, Чистящие средства, Шампунь, Кондиционер,...</td>\n",
       "    </tr>\n",
       "    <tr>\n",
       "      <th>2</th>\n",
       "      <td>Лилия ( старый Тбилиси )</td>\n",
       "      <td>www.airbnb.ru/rooms/34897035</td>\n",
       "      <td>https://a0.muscache.com/im/pictures/c1490961-7...</td>\n",
       "      <td>25</td>\n",
       "      <td>4,92</td>\n",
       "      <td>34897035</td>\n",
       "      <td>Уютная, современная, чистая квартира. Кухня в ...</td>\n",
       "      <td>[Хорошее жилье, есть все необходимое для работ...</td>\n",
       "      <td>4</td>\n",
       "      <td>1</td>\n",
       "      <td>3</td>\n",
       "      <td>1 ванная</td>\n",
       "      <td>[Фен, Чистящие средства, Шампунь, Кондиционер,...</td>\n",
       "    </tr>\n",
       "    <tr>\n",
       "      <th>3</th>\n",
       "      <td>Уютное место в центре города!</td>\n",
       "      <td>www.airbnb.ru/rooms/42052867</td>\n",
       "      <td>https://a0.muscache.com/im/pictures/06b40454-c...</td>\n",
       "      <td>41</td>\n",
       "      <td>4,99</td>\n",
       "      <td>42052867</td>\n",
       "      <td>Очень красивая и уютная квартира в центре Тбил...</td>\n",
       "      <td>[Жилье Эки идеально соответствует объявлению.Я...</td>\n",
       "      <td>3</td>\n",
       "      <td>1</td>\n",
       "      <td>2</td>\n",
       "      <td>1 ванная</td>\n",
       "      <td>[Вид на город, Фен, Чистящие средства, Шампунь...</td>\n",
       "    </tr>\n",
       "    <tr>\n",
       "      <th>4</th>\n",
       "      <td>Жилье Кети</td>\n",
       "      <td>www.airbnb.ru/rooms/12394534</td>\n",
       "      <td>https://a0.muscache.com/im/pictures/hosting/Ho...</td>\n",
       "      <td>54</td>\n",
       "      <td>4,89</td>\n",
       "      <td>12394534</td>\n",
       "      <td>Квартира  расположена в центре исторического р...</td>\n",
       "      <td>[Все началось очень хорошо, дом был безупречны...</td>\n",
       "      <td>2</td>\n",
       "      <td>1</td>\n",
       "      <td>1</td>\n",
       "      <td>1 ванная</td>\n",
       "      <td>[Полотенца, простыни, мыло и туалетная бумага,...</td>\n",
       "    </tr>\n",
       "    <tr>\n",
       "      <th>...</th>\n",
       "      <td>...</td>\n",
       "      <td>...</td>\n",
       "      <td>...</td>\n",
       "      <td>...</td>\n",
       "      <td>...</td>\n",
       "      <td>...</td>\n",
       "      <td>...</td>\n",
       "      <td>...</td>\n",
       "      <td>...</td>\n",
       "      <td>...</td>\n",
       "      <td>...</td>\n",
       "      <td>...</td>\n",
       "      <td>...</td>\n",
       "    </tr>\n",
       "    <tr>\n",
       "      <th>261</th>\n",
       "      <td>Красивая квартира в Тбилиси по специальной цене</td>\n",
       "      <td>www.airbnb.ru/rooms/1312750008819000793</td>\n",
       "      <td>https://a0.muscache.com/im/pictures/miso/Hosti...</td>\n",
       "      <td>26</td>\n",
       "      <td>5,0</td>\n",
       "      <td>1312750008819000832</td>\n",
       "      <td>Почувствуйте идеальный баланс спокойствия и уд...</td>\n",
       "      <td>[Джеймс — лучший хозяин, и мне очень понравило...</td>\n",
       "      <td>4</td>\n",
       "      <td>1</td>\n",
       "      <td>2</td>\n",
       "      <td>1 ванная</td>\n",
       "      <td>[Фен, Чистящие средства, Шампунь, Гель для душ...</td>\n",
       "    </tr>\n",
       "    <tr>\n",
       "      <th>262</th>\n",
       "      <td>Комфортабельная и солнечная квартира.</td>\n",
       "      <td>www.airbnb.ru/rooms/17699001</td>\n",
       "      <td>https://a0.muscache.com/im/pictures/eab6f4fc-d...</td>\n",
       "      <td>39</td>\n",
       "      <td>4,97</td>\n",
       "      <td>17699001</td>\n",
       "      <td>Удобная и солнечная квартира с фантастическим ...</td>\n",
       "      <td>[Мы провели несколько замечательных дней в ква...</td>\n",
       "      <td>4</td>\n",
       "      <td>2</td>\n",
       "      <td>2</td>\n",
       "      <td>1 ванная</td>\n",
       "      <td>[Фен, Шампунь, Горячая вода, Стиральная машина...</td>\n",
       "    </tr>\n",
       "    <tr>\n",
       "      <th>263</th>\n",
       "      <td>Совершенно новые уютные квартиры</td>\n",
       "      <td>www.airbnb.ru/rooms/1381050138333080695</td>\n",
       "      <td>https://a0.muscache.com/im/pictures/hosting/Ho...</td>\n",
       "      <td>45</td>\n",
       "      <td>Новое</td>\n",
       "      <td>1381050138333080576</td>\n",
       "      <td>Расслабьтесь в этом спокойном жилье с потрясаю...</td>\n",
       "      <td>[Очень хорошее жилье и много хороших услуг. Сп...</td>\n",
       "      <td>3</td>\n",
       "      <td>1</td>\n",
       "      <td>3</td>\n",
       "      <td>1 ванная</td>\n",
       "      <td>[Вид на горы, Вид на реку, Вид на город, Фен, ...</td>\n",
       "    </tr>\n",
       "    <tr>\n",
       "      <th>264</th>\n",
       "      <td>Совершенно новая уютная квартира с 1 спальней ...</td>\n",
       "      <td>www.airbnb.ru/rooms/41043054</td>\n",
       "      <td>https://a0.muscache.com/im/pictures/6836de1a-2...</td>\n",
       "      <td>45</td>\n",
       "      <td>5,0</td>\n",
       "      <td>41043054</td>\n",
       "      <td>КВАРТИРА расположена в Сабуртало, одном из цен...</td>\n",
       "      <td>[Квартира была хорошо спроектирована и имела в...</td>\n",
       "      <td>2</td>\n",
       "      <td>1</td>\n",
       "      <td>1</td>\n",
       "      <td>1 ванная</td>\n",
       "      <td>[Стиральная машина в жилье: Бесплатно, Полотен...</td>\n",
       "    </tr>\n",
       "    <tr>\n",
       "      <th>265</th>\n",
       "      <td>Уютная квартира с 1 спальней рядом с метро и ц...</td>\n",
       "      <td>www.airbnb.ru/rooms/1320121857714815503</td>\n",
       "      <td>https://a0.muscache.com/im/pictures/miso/Hosti...</td>\n",
       "      <td>41</td>\n",
       "      <td>5,0</td>\n",
       "      <td>1320121857714815488</td>\n",
       "      <td>Насладитесь тихой 1-комнатной квартирой всего ...</td>\n",
       "      <td>[Очень хорошее место — чистое, комфортабельное...</td>\n",
       "      <td>2</td>\n",
       "      <td>1</td>\n",
       "      <td>1</td>\n",
       "      <td>1 ванная</td>\n",
       "      <td>[Фен, Чистящие средства, Гель для душа, Горяча...</td>\n",
       "    </tr>\n",
       "  </tbody>\n",
       "</table>\n",
       "<p>266 rows × 13 columns</p>\n",
       "</div>"
      ],
      "text/plain": [
       "                                                 names  \\\n",
       "0           Винтажная квартира на улице G. Kikodze N12   \n",
       "1                         до площади Свободы 50 метров   \n",
       "2                             Лилия ( старый Тбилиси )   \n",
       "3                        Уютное место в центре города!   \n",
       "4                                           Жилье Кети   \n",
       "..                                                 ...   \n",
       "261    Красивая квартира в Тбилиси по специальной цене   \n",
       "262              Комфортабельная и солнечная квартира.   \n",
       "263                   Совершенно новые уютные квартиры   \n",
       "264  Совершенно новая уютная квартира с 1 спальней ...   \n",
       "265  Уютная квартира с 1 спальней рядом с метро и ц...   \n",
       "\n",
       "                                       links  \\\n",
       "0               www.airbnb.ru/rooms/20411305   \n",
       "1               www.airbnb.ru/rooms/18223226   \n",
       "2               www.airbnb.ru/rooms/34897035   \n",
       "3               www.airbnb.ru/rooms/42052867   \n",
       "4               www.airbnb.ru/rooms/12394534   \n",
       "..                                       ...   \n",
       "261  www.airbnb.ru/rooms/1312750008819000793   \n",
       "262             www.airbnb.ru/rooms/17699001   \n",
       "263  www.airbnb.ru/rooms/1381050138333080695   \n",
       "264             www.airbnb.ru/rooms/41043054   \n",
       "265  www.airbnb.ru/rooms/1320121857714815503   \n",
       "\n",
       "                                                   img  price rating  \\\n",
       "0    https://a0.muscache.com/im/pictures/438c7599-c...     42   4,99   \n",
       "1    https://a0.muscache.com/im/pictures/airflow/Ho...     55   4,99   \n",
       "2    https://a0.muscache.com/im/pictures/c1490961-7...     25   4,92   \n",
       "3    https://a0.muscache.com/im/pictures/06b40454-c...     41   4,99   \n",
       "4    https://a0.muscache.com/im/pictures/hosting/Ho...     54   4,89   \n",
       "..                                                 ...    ...    ...   \n",
       "261  https://a0.muscache.com/im/pictures/miso/Hosti...     26    5,0   \n",
       "262  https://a0.muscache.com/im/pictures/eab6f4fc-d...     39   4,97   \n",
       "263  https://a0.muscache.com/im/pictures/hosting/Ho...     45  Новое   \n",
       "264  https://a0.muscache.com/im/pictures/6836de1a-2...     45    5,0   \n",
       "265  https://a0.muscache.com/im/pictures/miso/Hosti...     41    5,0   \n",
       "\n",
       "                      ID                                        description  \\\n",
       "0               20411305  Уютная квартира в винтажном стиле расположена ...   \n",
       "1               18223226  Эта красивая квартира имеет отличное расположе...   \n",
       "2               34897035  Уютная, современная, чистая квартира. Кухня в ...   \n",
       "3               42052867  Очень красивая и уютная квартира в центре Тбил...   \n",
       "4               12394534  Квартира  расположена в центре исторического р...   \n",
       "..                   ...                                                ...   \n",
       "261  1312750008819000832  Почувствуйте идеальный баланс спокойствия и уд...   \n",
       "262             17699001  Удобная и солнечная квартира с фантастическим ...   \n",
       "263  1381050138333080576  Расслабьтесь в этом спокойном жилье с потрясаю...   \n",
       "264             41043054  КВАРТИРА расположена в Сабуртало, одном из цен...   \n",
       "265  1320121857714815488  Насладитесь тихой 1-комнатной квартирой всего ...   \n",
       "\n",
       "                                               reviews  guests  bedrooms  \\\n",
       "0    [Очень хороший, очень со вкусом обставленный д...       2         2   \n",
       "1    [Отзывчивый хозяин быстро отвечал на все наши ...       4         1   \n",
       "2    [Хорошее жилье, есть все необходимое для работ...       4         1   \n",
       "3    [Жилье Эки идеально соответствует объявлению.Я...       3         1   \n",
       "4    [Все началось очень хорошо, дом был безупречны...       2         1   \n",
       "..                                                 ...     ...       ...   \n",
       "261  [Джеймс — лучший хозяин, и мне очень понравило...       4         1   \n",
       "262  [Мы провели несколько замечательных дней в ква...       4         2   \n",
       "263  [Очень хорошее жилье и много хороших услуг. Сп...       3         1   \n",
       "264  [Квартира была хорошо спроектирована и имела в...       2         1   \n",
       "265  [Очень хорошее место — чистое, комфортабельное...       2         1   \n",
       "\n",
       "     beds bathrooms                                          amenities  \n",
       "0       2  1 ванная  [Фен, Шампунь, Горячая вода, Стиральная машина...  \n",
       "1       1  1 ванная  [Фен, Чистящие средства, Шампунь, Кондиционер,...  \n",
       "2       3  1 ванная  [Фен, Чистящие средства, Шампунь, Кондиционер,...  \n",
       "3       2  1 ванная  [Вид на город, Фен, Чистящие средства, Шампунь...  \n",
       "4       1  1 ванная  [Полотенца, простыни, мыло и туалетная бумага,...  \n",
       "..    ...       ...                                                ...  \n",
       "261     2  1 ванная  [Фен, Чистящие средства, Шампунь, Гель для душ...  \n",
       "262     2  1 ванная  [Фен, Шампунь, Горячая вода, Стиральная машина...  \n",
       "263     3  1 ванная  [Вид на горы, Вид на реку, Вид на город, Фен, ...  \n",
       "264     1  1 ванная  [Стиральная машина в жилье: Бесплатно, Полотен...  \n",
       "265     1  1 ванная  [Фен, Чистящие средства, Гель для душа, Горяча...  \n",
       "\n",
       "[266 rows x 13 columns]"
      ]
     },
     "execution_count": 10,
     "metadata": {},
     "output_type": "execute_result"
    }
   ],
   "source": [
    "listings"
   ]
  },
  {
   "cell_type": "markdown",
   "id": "edfd7ecc-8636-4d14-a934-1674b52a6c98",
   "metadata": {},
   "source": [
    "# Embeddings "
   ]
  },
  {
   "cell_type": "code",
   "execution_count": 201,
   "id": "d6e01bb0-8668-40fc-8996-90b41e5770f9",
   "metadata": {
    "scrolled": true
   },
   "outputs": [],
   "source": [
    "from sentence_transformers import SentenceTransformer\n",
    "\n",
    "#model = SentenceTransformer('deepvk/USER-bge-m3')\n",
    "#model = SentenceTransformer('sentence-transformers/paraphrase-multilingual-MiniLM-L12-v2')"
   ]
  },
  {
   "cell_type": "code",
   "execution_count": 457,
   "id": "1ab91ad7-395a-4793-9847-115916b44222",
   "metadata": {},
   "outputs": [],
   "source": [
    "listings['description_len'] = listings['description'].apply(lambda x: len(x))\n",
    "listings['reviews_full'] = listings['reviews'].apply(lambda x: '\\n'.join([review for review in x]))\n",
    "listings['reviews_len'] = listings['reviews_full'].apply(lambda x: len(x))"
   ]
  },
  {
   "cell_type": "code",
   "execution_count": 459,
   "id": "fdd90463-6d19-4c97-bf59-fd3b43c87502",
   "metadata": {},
   "outputs": [
    {
     "data": {
      "text/plain": [
       "array([[<Axes: title={'center': 'description_len'}>,\n",
       "        <Axes: title={'center': 'reviews_len'}>]], dtype=object)"
      ]
     },
     "execution_count": 459,
     "metadata": {},
     "output_type": "execute_result"
    },
    {
     "data": {
      "image/png": "[encoded data removed]",
      "text/plain": [
       "<Figure size 640x480 with 2 Axes>"
      ]
     },
     "metadata": {},
     "output_type": "display_data"
    }
   ],
   "source": [
    "listings[['description_len', 'reviews_len']].hist()"
   ]
  },
  {
   "cell_type": "code",
   "execution_count": 537,
   "id": "720ec989-50ee-4ed0-8b9e-c7d38dd21b46",
   "metadata": {},
   "outputs": [],
   "source": [
    "MODEL = \"sentence-transformers/paraphrase-multilingual-MiniLM-L12-v2\"\n",
    "#MODEL = 'sentence-transformers/all-MiniLM-L6-v2'\n",
    "\n",
    "model = SentenceTransformer(MODEL, device = 'cpu')"
   ]
  },
  {
   "cell_type": "code",
   "execution_count": 538,
   "id": "8946b1a8-b54d-40db-99fb-1bfd583e24a1",
   "metadata": {},
   "outputs": [],
   "source": [
    "tok = model.tokenizer\n",
    "MAX_TOK  = 512 \n",
    "\n",
    "def chunk_text(text: str, max_tok: int = MAX_TOK):\n",
    "\n",
    "    if not text: \n",
    "        return []\n",
    "    ids = tok(text, add_special_tokens=False)[\"input_ids\"]\n",
    "    for i in range(0, len(ids), max_tok):\n",
    "        chunk_ids = ids[i : i + max_tok]\n",
    "        yield tok.decode(chunk_ids, skip_special_tokens=True)\n",
    "        "
   ]
  },
  {
   "cell_type": "code",
   "execution_count": 539,
   "id": "863213ab-3912-45f0-932b-388b971df961",
   "metadata": {},
   "outputs": [
    {
     "name": "stderr",
     "output_type": "stream",
     "text": [
      "  0%|                                                   | 0/236 [00:00<?, ?it/s]Token indices sequence length is longer than the specified maximum sequence length for this model (226 > 128). Running this sequence through the model will result in indexing errors\n",
      "100%|████████████████████████████████████████| 236/236 [00:01<00:00, 202.37it/s]\n"
     ]
    }
   ],
   "source": [
    "import tqdm\n",
    "\n",
    "desc_chunks, rev_chunks  = [], []\n",
    "desc_ptrs,  rev_ptrs     = [], []  # (listing_id, local_chunk_id)\n",
    "\n",
    "for lid, row in tqdm.tqdm(listings.iterrows(), total=len(listings)):\n",
    "    # description\n",
    "    d_chunks = list(chunk_text(row[\"description\"]))\n",
    "    desc_ptrs += [(lid, i) for i in range(len(d_chunks))]\n",
    "    desc_chunks += d_chunks\n",
    "    \n",
    "    # reviews  (у вас это list[str])\n",
    "    r_text = \" \".join(row[\"reviews\"]) if isinstance(row[\"reviews\"], list) else str(row[\"reviews\"])\n",
    "    r_chunks = list(chunk_text(r_text))\n",
    "    rev_ptrs += [(lid, i) for i in range(len(r_chunks))]\n",
    "    rev_chunks += r_chunks"
   ]
  },
  {
   "cell_type": "code",
   "execution_count": 540,
   "id": "8eff8591-904f-4236-88e4-2f7d5221f453",
   "metadata": {},
   "outputs": [
    {
     "name": "stderr",
     "output_type": "stream",
     "text": [
      "100%|█████████████████████████████████████████| 259/259 [00:03<00:00, 66.40it/s]"
     ]
    },
    {
     "name": "stdout",
     "output_type": "stream",
     "text": [
      "CPU times: user 13.5 s, sys: 1.63 s, total: 15.1 s\n",
      "Wall time: 3.9 s\n"
     ]
    },
    {
     "name": "stderr",
     "output_type": "stream",
     "text": [
      "\n"
     ]
    }
   ],
   "source": [
    "%%time\n",
    "desc_embed = [model.encode(x, normalize_embeddings=True,\n",
    "                              convert_to_tensor=False).astype(\"float32\") \n",
    "              for x in tqdm.tqdm(desc_chunks, total = len(desc_chunks))]"
   ]
  },
  {
   "cell_type": "code",
   "execution_count": 541,
   "id": "511a8e82-4478-4114-aa9d-e21551f5b591",
   "metadata": {},
   "outputs": [
    {
     "name": "stderr",
     "output_type": "stream",
     "text": [
      "100%|█████████████████████████████████████████| 693/693 [00:11<00:00, 60.18it/s]"
     ]
    },
    {
     "name": "stdout",
     "output_type": "stream",
     "text": [
      "CPU times: user 39.3 s, sys: 4.9 s, total: 44.2 s\n",
      "Wall time: 11.5 s\n"
     ]
    },
    {
     "name": "stderr",
     "output_type": "stream",
     "text": [
      "\n"
     ]
    }
   ],
   "source": [
    "%%time\n",
    "rev_embed = [model.encode(x, normalize_embeddings=True,\n",
    "                              convert_to_tensor=False).astype(\"float32\") \n",
    "              for x in tqdm.tqdm(rev_chunks, total = len(rev_chunks))]"
   ]
  },
  {
   "cell_type": "code",
   "execution_count": 545,
   "id": "333c8f68-f405-45a8-85d6-c1af62bdd92f",
   "metadata": {},
   "outputs": [],
   "source": [
    "def as_unit(vec):\n",
    "    # если encode делался без normalize_embeddings=True\n",
    "    n = np.linalg.norm(vec)\n",
    "    return vec if n == 0 else vec / n\n",
    "\n",
    "desc_embed = [as_unit(v).astype(\"float32\") for v in desc_embed]\n",
    "rev_embed  = [as_unit(v).astype(\"float32\") for v in rev_embed]\n",
    "\n",
    "# Делать np.vstack удобно, но не обязательно. \n",
    "# Здесь оставим списки для карт чанков, а для быстрой математики соберём массивы:\n",
    "DESC_MAT = np.vstack(desc_embed)              # shape (N_d_chunks, 384)\n",
    "REV_MAT  = np.vstack(rev_embed)"
   ]
  },
  {
   "cell_type": "code",
   "execution_count": 546,
   "id": "7c61e334-5f5b-4064-b7ad-e58d9ba1d190",
   "metadata": {},
   "outputs": [],
   "source": [
    "from collections import defaultdict\n",
    "\n",
    "# 2.1  Карта \"id -> список chunk‑векторов\"\n",
    "lid2dchunks = defaultdict(list)\n",
    "for (lid, _), v in zip(desc_ptrs, desc_embed):\n",
    "    lid2dchunks[lid].append(v)\n",
    "\n",
    "lid2rchunks = defaultdict(list)\n",
    "for (lid, _), v in zip(rev_ptrs, rev_embed):\n",
    "    lid2rchunks[lid].append(v)\n",
    "\n",
    "# 2.2  Усредняем для каждого lid\n",
    "ids_all = sorted(set(lid2dchunks) & set(lid2rchunks))   # пересечение\n",
    "mean_desc = np.vstack([np.mean(lid2dchunks[i], axis=0) for i in ids_all])\n",
    "mean_rev  = np.vstack([np.mean(lid2rchunks[i], axis=0) for i in ids_all])\n",
    "LIDS      = np.array(ids_all)      "
   ]
  },
  {
   "cell_type": "code",
   "execution_count": 551,
   "id": "6babc945-9f48-4b71-8f8c-53cfdd51290b",
   "metadata": {},
   "outputs": [],
   "source": [
    "def search_hybrid(\n",
    "        query: str,\n",
    "        top_n: int = 5,\n",
    "        *,\n",
    "        w1=0.4, w2=0.2, w4=0.4,\n",
    "        use_chunks: bool = True\n",
    "    ):\n",
    "    \"\"\"\n",
    "    Гибридное ранжирование объявления:\n",
    "        mean_desc • q   (общая тема описания)\n",
    "        mean_rev  • q   (общая тема отзывов)\n",
    "        max(chunk_rev • q)  (локальное совпадение в отзывах)\n",
    "    \"\"\"\n",
    "    # 1. эмбеддинг запроса\n",
    "    q = model.encode(query,\n",
    "                     normalize_embeddings=True,\n",
    "                     convert_to_tensor=False).astype(\"float32\")\n",
    "\n",
    "    # 2. быстрый NumPy‑scoring\n",
    "    sim_desc = mean_desc @ q           # (L,)\n",
    "    sim_rev  = mean_rev  @ q\n",
    "\n",
    "    # берём top‑K позиций (не id!)\n",
    "    pos_desc = np.argpartition(-sim_desc, k_desc)[:k_desc]\n",
    "    pos_rev  = np.argpartition(-sim_rev,  k_rev) [:k_rev]\n",
    "\n",
    "    # набор кандидатов (объединяем индексы)\n",
    "    cand_pos = np.unique(np.concatenate([pos_desc, pos_rev]))\n",
    "\n",
    "    results = []\n",
    "    for pos in cand_pos:\n",
    "        s = w1 * sim_desc[pos] + w2 * sim_rev[pos]\n",
    "        max_r = max((v @ q for v in lid2rchunks.get(pos, [])), default=0.0)\n",
    "        s += w4 * max_r\n",
    "\n",
    "        results.append((s, pos))\n",
    "\n",
    "    results.sort(reverse=True)\n",
    "    top = results[:top_n]\n",
    "\n",
    "    # listings — DataFrame с вашими объявлениями (объявлен ниже в коде Flask)\n",
    "    return listings.loc[[id for _, id in top]] \\\n",
    "                   .assign(score=[round(s, 3) for s, _ in top]).sort_values('score', ascending = False)"
   ]
  },
  {
   "cell_type": "code",
   "execution_count": 567,
   "id": "f857423f-f7c1-4c49-b39d-37a0591ae415",
   "metadata": {},
   "outputs": [
    {
     "data": {
      "text/plain": [
       "235"
      ]
     },
     "execution_count": 567,
     "metadata": {},
     "output_type": "execute_result"
    }
   ],
   "source": [
    "len(mean_rev)"
   ]
  },
  {
   "cell_type": "code",
   "execution_count": 609,
   "id": "7cf199ce-7674-40ca-8cbe-033b413fe1de",
   "metadata": {},
   "outputs": [
    {
     "data": {
      "text/html": [
       "<div>\n",
       "<style scoped>\n",
       "    .dataframe tbody tr th:only-of-type {\n",
       "        vertical-align: middle;\n",
       "    }\n",
       "\n",
       "    .dataframe tbody tr th {\n",
       "        vertical-align: top;\n",
       "    }\n",
       "\n",
       "    .dataframe thead th {\n",
       "        text-align: right;\n",
       "    }\n",
       "</style>\n",
       "<table border=\"1\" class=\"dataframe\">\n",
       "  <thead>\n",
       "    <tr style=\"text-align: right;\">\n",
       "      <th></th>\n",
       "      <th>names</th>\n",
       "      <th>links</th>\n",
       "      <th>img</th>\n",
       "      <th>price</th>\n",
       "      <th>rating</th>\n",
       "      <th>ID</th>\n",
       "      <th>description</th>\n",
       "      <th>reviews</th>\n",
       "      <th>guests</th>\n",
       "      <th>bedrooms</th>\n",
       "      <th>beds</th>\n",
       "      <th>bathrooms</th>\n",
       "      <th>amenities</th>\n",
       "      <th>description_len</th>\n",
       "      <th>reviews_full</th>\n",
       "      <th>reviews_len</th>\n",
       "      <th>score</th>\n",
       "    </tr>\n",
       "  </thead>\n",
       "  <tbody>\n",
       "    <tr>\n",
       "      <th>78</th>\n",
       "      <td>Современный комфорт: квартира с 2 спальнями в ...</td>\n",
       "      <td>www.airbnb.ru/rooms/888936499572941970</td>\n",
       "      <td>https://a0.muscache.com/im/pictures/miso/Hosti...</td>\n",
       "      <td>69</td>\n",
       "      <td>4,93</td>\n",
       "      <td>888936499572941952</td>\n",
       "      <td>Откройте для себя очарование Тбилиси в наших у...</td>\n",
       "      <td>[Отличная квартира и комфортное пребывание... ...</td>\n",
       "      <td>3</td>\n",
       "      <td>2</td>\n",
       "      <td>2</td>\n",
       "      <td>1,5 ванные</td>\n",
       "      <td>[Стиральная машина, Полотенца, простыни, мыло ...</td>\n",
       "      <td>1600</td>\n",
       "      <td>Отличная квартира и комфортное пребывание... Н...</td>\n",
       "      <td>4092</td>\n",
       "      <td>0.212</td>\n",
       "    </tr>\n",
       "    <tr>\n",
       "      <th>42</th>\n",
       "      <td>Nina's Viewpoint: потрясающие виды и уютные ба...</td>\n",
       "      <td>www.airbnb.ru/rooms/32630365</td>\n",
       "      <td>https://a0.muscache.com/im/pictures/0fc1fa0e-f...</td>\n",
       "      <td>45</td>\n",
       "      <td>4,89</td>\n",
       "      <td>32630365</td>\n",
       "      <td>Жилье Нины расположено в старом Тбилиси, в нед...</td>\n",
       "      <td>[Нам очень понравилось жить в этой квартире, б...</td>\n",
       "      <td>2</td>\n",
       "      <td>1</td>\n",
       "      <td>1</td>\n",
       "      <td>1 ванная</td>\n",
       "      <td>[Фен, Шампунь, Гель для душа, Горячая вода, Ге...</td>\n",
       "      <td>1505</td>\n",
       "      <td>Нам очень понравилось жить в этой квартире, бл...</td>\n",
       "      <td>10197</td>\n",
       "      <td>0.188</td>\n",
       "    </tr>\n",
       "    <tr>\n",
       "      <th>58</th>\n",
       "      <td>Дизайнерская квартира с прекрасным видом</td>\n",
       "      <td>www.airbnb.ru/rooms/1070101477456528842</td>\n",
       "      <td>https://a0.muscache.com/im/pictures/miso/Hosti...</td>\n",
       "      <td>167</td>\n",
       "      <td>5,0</td>\n",
       "      <td>1070101477456528896</td>\n",
       "      <td>Наслаждайтесь стильным пребыванием в центре го...</td>\n",
       "      <td>[Потрясающая аренда. Вид на Тбилиси был потряс...</td>\n",
       "      <td>2</td>\n",
       "      <td>1</td>\n",
       "      <td>1</td>\n",
       "      <td>1 год принимает гостей</td>\n",
       "      <td>[Кондиционер, Центральное отопление, Wi-Fi, Ра...</td>\n",
       "      <td>745</td>\n",
       "      <td>Потрясающая аренда. Вид на Тбилиси был потряса...</td>\n",
       "      <td>4493</td>\n",
       "      <td>0.181</td>\n",
       "    </tr>\n",
       "    <tr>\n",
       "      <th>24</th>\n",
       "      <td>Комфортабельная студия в Тбилиси - Wehost</td>\n",
       "      <td>www.airbnb.ru/rooms/828679885862531706</td>\n",
       "      <td>https://a0.muscache.com/im/pictures/miso/Hosti...</td>\n",
       "      <td>21</td>\n",
       "      <td>4,73</td>\n",
       "      <td>828679885862531712</td>\n",
       "      <td>Наша уютная квартира-студия Wehost в Авлабари,...</td>\n",
       "      <td>[Возникла проблема с горячей водой. Всё осталь...</td>\n",
       "      <td>2</td>\n",
       "      <td>1</td>\n",
       "      <td>2</td>\n",
       "      <td>1 ванная</td>\n",
       "      <td>[Фен, Чистящие средства, Шампунь, Гель для душ...</td>\n",
       "      <td>1789</td>\n",
       "      <td>Возникла проблема с горячей водой. Всё остальн...</td>\n",
       "      <td>4272</td>\n",
       "      <td>0.178</td>\n",
       "    </tr>\n",
       "    <tr>\n",
       "      <th>75</th>\n",
       "      <td>Квартира с панорамным видом</td>\n",
       "      <td>www.airbnb.ru/rooms/1128935959511733680</td>\n",
       "      <td>https://a0.muscache.com/im/pictures/miso/Hosti...</td>\n",
       "      <td>83</td>\n",
       "      <td>5,0</td>\n",
       "      <td>1128935959511733632</td>\n",
       "      <td>Наша квартира класса люкс на верхнем этаже пре...</td>\n",
       "      <td>[Энн была исключительной хозяйкой, которая был...</td>\n",
       "      <td>2</td>\n",
       "      <td>1</td>\n",
       "      <td>2</td>\n",
       "      <td>1,5 ванные</td>\n",
       "      <td>[Фен, Чистящие средства, Биде, Горячая вода, С...</td>\n",
       "      <td>1765</td>\n",
       "      <td>Энн была исключительной хозяйкой, которая была...</td>\n",
       "      <td>7359</td>\n",
       "      <td>0.177</td>\n",
       "    </tr>\n",
       "    <tr>\n",
       "      <th>...</th>\n",
       "      <td>...</td>\n",
       "      <td>...</td>\n",
       "      <td>...</td>\n",
       "      <td>...</td>\n",
       "      <td>...</td>\n",
       "      <td>...</td>\n",
       "      <td>...</td>\n",
       "      <td>...</td>\n",
       "      <td>...</td>\n",
       "      <td>...</td>\n",
       "      <td>...</td>\n",
       "      <td>...</td>\n",
       "      <td>...</td>\n",
       "      <td>...</td>\n",
       "      <td>...</td>\n",
       "      <td>...</td>\n",
       "      <td>...</td>\n",
       "    </tr>\n",
       "    <tr>\n",
       "      <th>211</th>\n",
       "      <td>LiL home II - центр Тбилиси,Грузия</td>\n",
       "      <td>www.airbnb.ru/rooms/35225862</td>\n",
       "      <td>https://a0.muscache.com/im/pictures/miso/Hosti...</td>\n",
       "      <td>42</td>\n",
       "      <td>4,87</td>\n",
       "      <td>35225862</td>\n",
       "      <td>Lil Home расположен в отремонтированном истори...</td>\n",
       "      <td>[Очень милое место для пары. Нам очень понрави...</td>\n",
       "      <td>4</td>\n",
       "      <td>1</td>\n",
       "      <td>2</td>\n",
       "      <td>1 ванная</td>\n",
       "      <td>[Плечики, Постельное белье, Утюг, Телевизор + ...</td>\n",
       "      <td>705</td>\n",
       "      <td>Очень милое место для пары. Нам очень понравил...</td>\n",
       "      <td>4188</td>\n",
       "      <td>0.071</td>\n",
       "    </tr>\n",
       "    <tr>\n",
       "      <th>180</th>\n",
       "      <td>Просторная квартира с видовой террасой на Тбилиси</td>\n",
       "      <td>www.airbnb.ru/rooms/615087537692355869</td>\n",
       "      <td>https://a0.muscache.com/im/pictures/364043b7-4...</td>\n",
       "      <td>25</td>\n",
       "      <td>4,87</td>\n",
       "      <td>615087537692355840</td>\n",
       "      <td>Уютная квартире с большой террасой (25 метров)...</td>\n",
       "      <td>[Я провела в квартире месяц. Прекрасно!!!! Оче...</td>\n",
       "      <td>3</td>\n",
       "      <td>1</td>\n",
       "      <td>1</td>\n",
       "      <td>1 ванная</td>\n",
       "      <td>[Вид на горы, Чистящие средства, Гель для душа...</td>\n",
       "      <td>1096</td>\n",
       "      <td>Я провела в квартире месяц. Прекрасно!!!! Очен...</td>\n",
       "      <td>5767</td>\n",
       "      <td>0.071</td>\n",
       "    </tr>\n",
       "    <tr>\n",
       "      <th>127</th>\n",
       "      <td>Chic 1BR Sololaki Center Retreat - By Wehost</td>\n",
       "      <td>www.airbnb.ru/rooms/938852194286626179</td>\n",
       "      <td>https://a0.muscache.com/im/pictures/prohost-ap...</td>\n",
       "      <td>45</td>\n",
       "      <td>4,73</td>\n",
       "      <td>938852194286626176</td>\n",
       "      <td>Наша уютная квартира с одной спальней в центре...</td>\n",
       "      <td>[Отличная квартира прямо в центре города, но ч...</td>\n",
       "      <td>2</td>\n",
       "      <td>1</td>\n",
       "      <td>1</td>\n",
       "      <td>1 ванная</td>\n",
       "      <td>[Отопление, Датчик дыма, Wi-Fi, Гости могут го...</td>\n",
       "      <td>1885</td>\n",
       "      <td>Отличная квартира прямо в центре города, но чт...</td>\n",
       "      <td>6851</td>\n",
       "      <td>0.070</td>\n",
       "    </tr>\n",
       "    <tr>\n",
       "      <th>11</th>\n",
       "      <td>Уютная и прекрасная квартира в центре Тбилиси.</td>\n",
       "      <td>www.airbnb.ru/rooms/703466079905906517</td>\n",
       "      <td>https://a0.muscache.com/im/pictures/fc2f3cac-4...</td>\n",
       "      <td>23</td>\n",
       "      <td>5,0</td>\n",
       "      <td>703466079905906560</td>\n",
       "      <td>Жилье расположен недалеко от стадиона Dinamo A...</td>\n",
       "      <td>[Какое прекрасное местечко! Близко ко всем мес...</td>\n",
       "      <td>2</td>\n",
       "      <td>1</td>\n",
       "      <td>1</td>\n",
       "      <td>1,5 ванные</td>\n",
       "      <td>[Ванна, Фен, Чистящие средства, Горячая вода, ...</td>\n",
       "      <td>213</td>\n",
       "      <td>Какое прекрасное местечко! Близко ко всем мест...</td>\n",
       "      <td>5278</td>\n",
       "      <td>0.070</td>\n",
       "    </tr>\n",
       "    <tr>\n",
       "      <th>76</th>\n",
       "      <td>Уютная квартира-хозяин A</td>\n",
       "      <td>www.airbnb.ru/rooms/33570576</td>\n",
       "      <td>https://a0.muscache.com/im/pictures/46491bdd-b...</td>\n",
       "      <td>29</td>\n",
       "      <td>4,95</td>\n",
       "      <td>33570576</td>\n",
       "      <td>Наша квартира расположена в центре историческо...</td>\n",
       "      <td>[Мы отлично провели время! Наш хозяин был поис...</td>\n",
       "      <td>4</td>\n",
       "      <td>1</td>\n",
       "      <td>1</td>\n",
       "      <td>1 ванная</td>\n",
       "      <td>[Фен, Шампунь, Горячая вода, Стиральная машина...</td>\n",
       "      <td>866</td>\n",
       "      <td>Мы отлично провели время! Наш хозяин был поист...</td>\n",
       "      <td>4306</td>\n",
       "      <td>0.067</td>\n",
       "    </tr>\n",
       "  </tbody>\n",
       "</table>\n",
       "<p>200 rows × 17 columns</p>\n",
       "</div>"
      ],
      "text/plain": [
       "                                                 names  \\\n",
       "78   Современный комфорт: квартира с 2 спальнями в ...   \n",
       "42   Nina's Viewpoint: потрясающие виды и уютные ба...   \n",
       "58            Дизайнерская квартира с прекрасным видом   \n",
       "24           Комфортабельная студия в Тбилиси - Wehost   \n",
       "75                         Квартира с панорамным видом   \n",
       "..                                                 ...   \n",
       "211                 LiL home II - центр Тбилиси,Грузия   \n",
       "180  Просторная квартира с видовой террасой на Тбилиси   \n",
       "127       Chic 1BR Sololaki Center Retreat - By Wehost   \n",
       "11      Уютная и прекрасная квартира в центре Тбилиси.   \n",
       "76                            Уютная квартира-хозяин A   \n",
       "\n",
       "                                       links  \\\n",
       "78    www.airbnb.ru/rooms/888936499572941970   \n",
       "42              www.airbnb.ru/rooms/32630365   \n",
       "58   www.airbnb.ru/rooms/1070101477456528842   \n",
       "24    www.airbnb.ru/rooms/828679885862531706   \n",
       "75   www.airbnb.ru/rooms/1128935959511733680   \n",
       "..                                       ...   \n",
       "211             www.airbnb.ru/rooms/35225862   \n",
       "180   www.airbnb.ru/rooms/615087537692355869   \n",
       "127   www.airbnb.ru/rooms/938852194286626179   \n",
       "11    www.airbnb.ru/rooms/703466079905906517   \n",
       "76              www.airbnb.ru/rooms/33570576   \n",
       "\n",
       "                                                   img  price rating  \\\n",
       "78   https://a0.muscache.com/im/pictures/miso/Hosti...     69   4,93   \n",
       "42   https://a0.muscache.com/im/pictures/0fc1fa0e-f...     45   4,89   \n",
       "58   https://a0.muscache.com/im/pictures/miso/Hosti...    167    5,0   \n",
       "24   https://a0.muscache.com/im/pictures/miso/Hosti...     21   4,73   \n",
       "75   https://a0.muscache.com/im/pictures/miso/Hosti...     83    5,0   \n",
       "..                                                 ...    ...    ...   \n",
       "211  https://a0.muscache.com/im/pictures/miso/Hosti...     42   4,87   \n",
       "180  https://a0.muscache.com/im/pictures/364043b7-4...     25   4,87   \n",
       "127  https://a0.muscache.com/im/pictures/prohost-ap...     45   4,73   \n",
       "11   https://a0.muscache.com/im/pictures/fc2f3cac-4...     23    5,0   \n",
       "76   https://a0.muscache.com/im/pictures/46491bdd-b...     29   4,95   \n",
       "\n",
       "                      ID                                        description  \\\n",
       "78    888936499572941952  Откройте для себя очарование Тбилиси в наших у...   \n",
       "42              32630365  Жилье Нины расположено в старом Тбилиси, в нед...   \n",
       "58   1070101477456528896  Наслаждайтесь стильным пребыванием в центре го...   \n",
       "24    828679885862531712  Наша уютная квартира-студия Wehost в Авлабари,...   \n",
       "75   1128935959511733632  Наша квартира класса люкс на верхнем этаже пре...   \n",
       "..                   ...                                                ...   \n",
       "211             35225862  Lil Home расположен в отремонтированном истори...   \n",
       "180   615087537692355840  Уютная квартире с большой террасой (25 метров)...   \n",
       "127   938852194286626176  Наша уютная квартира с одной спальней в центре...   \n",
       "11    703466079905906560  Жилье расположен недалеко от стадиона Dinamo A...   \n",
       "76              33570576  Наша квартира расположена в центре историческо...   \n",
       "\n",
       "                                               reviews  guests  bedrooms  \\\n",
       "78   [Отличная квартира и комфортное пребывание... ...       3         2   \n",
       "42   [Нам очень понравилось жить в этой квартире, б...       2         1   \n",
       "58   [Потрясающая аренда. Вид на Тбилиси был потряс...       2         1   \n",
       "24   [Возникла проблема с горячей водой. Всё осталь...       2         1   \n",
       "75   [Энн была исключительной хозяйкой, которая был...       2         1   \n",
       "..                                                 ...     ...       ...   \n",
       "211  [Очень милое место для пары. Нам очень понрави...       4         1   \n",
       "180  [Я провела в квартире месяц. Прекрасно!!!! Оче...       3         1   \n",
       "127  [Отличная квартира прямо в центре города, но ч...       2         1   \n",
       "11   [Какое прекрасное местечко! Близко ко всем мес...       2         1   \n",
       "76   [Мы отлично провели время! Наш хозяин был поис...       4         1   \n",
       "\n",
       "     beds               bathrooms  \\\n",
       "78      2              1,5 ванные   \n",
       "42      1                1 ванная   \n",
       "58      1  1 год принимает гостей   \n",
       "24      2                1 ванная   \n",
       "75      2              1,5 ванные   \n",
       "..    ...                     ...   \n",
       "211     2                1 ванная   \n",
       "180     1                1 ванная   \n",
       "127     1                1 ванная   \n",
       "11      1              1,5 ванные   \n",
       "76      1                1 ванная   \n",
       "\n",
       "                                             amenities  description_len  \\\n",
       "78   [Стиральная машина, Полотенца, простыни, мыло ...             1600   \n",
       "42   [Фен, Шампунь, Гель для душа, Горячая вода, Ге...             1505   \n",
       "58   [Кондиционер, Центральное отопление, Wi-Fi, Ра...              745   \n",
       "24   [Фен, Чистящие средства, Шампунь, Гель для душ...             1789   \n",
       "75   [Фен, Чистящие средства, Биде, Горячая вода, С...             1765   \n",
       "..                                                 ...              ...   \n",
       "211  [Плечики, Постельное белье, Утюг, Телевизор + ...              705   \n",
       "180  [Вид на горы, Чистящие средства, Гель для душа...             1096   \n",
       "127  [Отопление, Датчик дыма, Wi-Fi, Гости могут го...             1885   \n",
       "11   [Ванна, Фен, Чистящие средства, Горячая вода, ...              213   \n",
       "76   [Фен, Шампунь, Горячая вода, Стиральная машина...              866   \n",
       "\n",
       "                                          reviews_full  reviews_len  score  \n",
       "78   Отличная квартира и комфортное пребывание... Н...         4092  0.212  \n",
       "42   Нам очень понравилось жить в этой квартире, бл...        10197  0.188  \n",
       "58   Потрясающая аренда. Вид на Тбилиси был потряса...         4493  0.181  \n",
       "24   Возникла проблема с горячей водой. Всё остальн...         4272  0.178  \n",
       "75   Энн была исключительной хозяйкой, которая была...         7359  0.177  \n",
       "..                                                 ...          ...    ...  \n",
       "211  Очень милое место для пары. Нам очень понравил...         4188  0.071  \n",
       "180  Я провела в квартире месяц. Прекрасно!!!! Очен...         5767  0.071  \n",
       "127  Отличная квартира прямо в центре города, но чт...         6851  0.070  \n",
       "11   Какое прекрасное местечко! Близко ко всем мест...         5278  0.070  \n",
       "76   Мы отлично провели время! Наш хозяин был поист...         4306  0.067  \n",
       "\n",
       "[200 rows x 17 columns]"
      ]
     },
     "execution_count": 609,
     "metadata": {},
     "output_type": "execute_result"
    }
   ],
   "source": [
    "search_hybrid(\n",
    "    \"балкон и красивый вид\",\n",
    "    top_n=200)"
   ]
  },
  {
   "cell_type": "code",
   "execution_count": 577,
   "id": "0e6aa661-7ea4-48a2-9f40-e0bbc5bfe53b",
   "metadata": {},
   "outputs": [
    {
     "data": {
      "text/html": [
       "<div>\n",
       "<style scoped>\n",
       "    .dataframe tbody tr th:only-of-type {\n",
       "        vertical-align: middle;\n",
       "    }\n",
       "\n",
       "    .dataframe tbody tr th {\n",
       "        vertical-align: top;\n",
       "    }\n",
       "\n",
       "    .dataframe thead th {\n",
       "        text-align: right;\n",
       "    }\n",
       "</style>\n",
       "<table border=\"1\" class=\"dataframe\">\n",
       "  <thead>\n",
       "    <tr style=\"text-align: right;\">\n",
       "      <th></th>\n",
       "      <th>names</th>\n",
       "      <th>links</th>\n",
       "      <th>img</th>\n",
       "      <th>price</th>\n",
       "      <th>rating</th>\n",
       "      <th>ID</th>\n",
       "      <th>description</th>\n",
       "      <th>reviews</th>\n",
       "      <th>guests</th>\n",
       "      <th>bedrooms</th>\n",
       "      <th>beds</th>\n",
       "      <th>bathrooms</th>\n",
       "      <th>amenities</th>\n",
       "      <th>description_len</th>\n",
       "      <th>reviews_full</th>\n",
       "      <th>reviews_len</th>\n",
       "      <th>score</th>\n",
       "    </tr>\n",
       "  </thead>\n",
       "  <tbody>\n",
       "    <tr>\n",
       "      <th>167</th>\n",
       "      <td>Loft-Studio at Vera District</td>\n",
       "      <td>www.airbnb.ru/rooms/467014</td>\n",
       "      <td>https://a0.muscache.com/im/pictures/hosting/Ho...</td>\n",
       "      <td>34</td>\n",
       "      <td>4,83</td>\n",
       "      <td>467014</td>\n",
       "      <td>Самая большая часть квартиры - балкон с прекра...</td>\n",
       "      <td>[Отличное место с удивительным видом прямо в ц...</td>\n",
       "      <td>2</td>\n",
       "      <td>1</td>\n",
       "      <td>1</td>\n",
       "      <td>1 ванная</td>\n",
       "      <td>[Фен, Чистящие средства, Шампунь, Горячая вода...</td>\n",
       "      <td>2816</td>\n",
       "      <td>Отличное место с удивительным видом прямо в це...</td>\n",
       "      <td>5815</td>\n",
       "      <td>0.488</td>\n",
       "    </tr>\n",
       "  </tbody>\n",
       "</table>\n",
       "</div>"
      ],
      "text/plain": [
       "                            names                       links  \\\n",
       "167  Loft-Studio at Vera District  www.airbnb.ru/rooms/467014   \n",
       "\n",
       "                                                   img  price rating      ID  \\\n",
       "167  https://a0.muscache.com/im/pictures/hosting/Ho...     34   4,83  467014   \n",
       "\n",
       "                                           description  \\\n",
       "167  Самая большая часть квартиры - балкон с прекра...   \n",
       "\n",
       "                                               reviews  guests  bedrooms  \\\n",
       "167  [Отличное место с удивительным видом прямо в ц...       2         1   \n",
       "\n",
       "     beds bathrooms                                          amenities  \\\n",
       "167     1  1 ванная  [Фен, Чистящие средства, Шампунь, Горячая вода...   \n",
       "\n",
       "     description_len                                       reviews_full  \\\n",
       "167             2816  Отличное место с удивительным видом прямо в це...   \n",
       "\n",
       "     reviews_len  score  \n",
       "167         5815  0.488  "
      ]
     },
     "execution_count": 577,
     "metadata": {},
     "output_type": "execute_result"
    }
   ],
   "source": [
    "t[t['names'] == 'Loft-Studio at Vera District']"
   ]
  },
  {
   "cell_type": "code",
   "execution_count": 599,
   "id": "cfc558a5-717e-4637-a5cd-1d0c39364db4",
   "metadata": {},
   "outputs": [],
   "source": [
    "s = w1 * model.encode(listings.iloc[167,6]) @ q + w2 * model.encode(listings.iloc[167,14]) @ q"
   ]
  },
  {
   "cell_type": "code",
   "execution_count": 601,
   "id": "1e4b70a2-2c22-4ec9-9fa9-0e4c3704d606",
   "metadata": {},
   "outputs": [
    {
     "data": {
      "text/plain": [
       "1.222955"
      ]
     },
     "execution_count": 601,
     "metadata": {},
     "output_type": "execute_result"
    }
   ],
   "source": [
    "s"
   ]
  },
  {
   "cell_type": "code",
   "execution_count": 301,
   "id": "3027b56b-694b-45df-a452-588172d0401a",
   "metadata": {},
   "outputs": [],
   "source": [
    "import numpy as np, pickle"
   ]
  },
  {
   "cell_type": "code",
   "execution_count": 605,
   "id": "1872fe86-1839-4d85-884e-7b45608c9f1a",
   "metadata": {},
   "outputs": [],
   "source": [
    "np.save(\"mean_desc.npy\", mean_desc)   # создаст бинарный файл ~0.6 МБ на 10 k объявлений\n",
    "np.save(\"mean_rev.npy\",  mean_rev)\n",
    "\n",
    "with open(\"lid2rchunks.pkl\", \"wb\") as f:\n",
    "    pickle.dump(lid2rchunks, f, protocol=pickle.HIGHEST_PROTOCOL)"
   ]
  }
 ],
 "metadata": {
  "kernelspec": {
   "display_name": "Python 3 (ipykernel)",
   "language": "python",
   "name": "python3"
  },
  "language_info": {
   "codemirror_mode": {
    "name": "ipython",
    "version": 3
   },
   "file_extension": ".py",
   "mimetype": "text/x-python",
   "name": "python",
   "nbconvert_exporter": "python",
   "pygments_lexer": "ipython3",
   "version": "3.12.4"
  }
 },
 "nbformat": 4,
 "nbformat_minor": 5
}
